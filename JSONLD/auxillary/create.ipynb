{
 "cells": [
  {
   "cell_type": "code",
   "execution_count": 2,
   "metadata": {},
   "outputs": [],
   "source": [
    "import json \n",
    "import jsonschema\n",
    "from jsonschema import validate\n",
    "\n",
    "'''\n",
    "mip-cmor-tables/auxillary\n",
    "'''\n",
    "\n",
    "def validate_json(data, schema, name = 'none'):\n",
    "    try:\n",
    "        validate(instance=data, schema=schema)\n",
    "        print(f\"Validation succeeded: {name}\")\n",
    "    except jsonschema.exceptions.ValidationError as err:\n",
    "        print(\"Validation error:\", err.message)\n",
    "\n",
    "repo_ctx = json.load(open('../context.json'))"
   ]
  },
  {
   "cell_type": "code",
   "execution_count": 3,
   "metadata": {},
   "outputs": [],
   "source": [
    "context = {}"
   ]
  },
  {
   "cell_type": "code",
   "execution_count": 4,
   "metadata": {},
   "outputs": [],
   "source": [
    "mip_era_schema = {\n",
    "  \"$schema\": \"http://json-schema.org/draft-07/schema#\",\n",
    "  \"title\": \"cmip:mip_era\",\n",
    "  \"type\": \"object\",\n",
    "  \"properties\": {\n",
    "    \"@type\": {\n",
    "      \"type\": \"string\",\n",
    "      \"const\": \"cmip:mip_era\",\n",
    "      \"description\": \"The type of the JSON-LD object\"\n",
    "    },\n",
    "    \"@id\": {\n",
    "      \"type\": \"string\",\n",
    "      \"format\": \"uri\",\n",
    "      \"description\": \"The unique identifier for the object, must be a valid URI\"\n",
    "    },\n",
    "    \"mip:name\": {\n",
    "      \"type\": \"string\",\n",
    "      \"pattern\": \"^[a-zA-Z0-9-_]+$\",\n",
    "      \"description\": \"The name of the MIP, must contain only alphanumeric characters, hyphens, or underscores\"\n",
    "    },\n",
    "    \"mip:url\": {\n",
    "      \"type\": \"string\",\n",
    "      \"format\": \"uri\",\n",
    "      \"description\": \"The URL related to the MIP, must be a valid URL\"\n",
    "    },\n",
    "\n",
    "    \"mip:start\": {\n",
    "        \"type\": \"string\",\n",
    "        \"format\": \"year\",\n",
    "        \"description\": \"The start date of the MIP\"\n",
    "      },\n",
    "      \"mip:end\": {\n",
    "        \"type\": \"string\",\n",
    "        \"format\": \"year\",\n",
    "        \"description\": \"The end date of the MIP (optional)\"\n",
    "      }\n",
    "    },\n",
    "  \"required\": [\"@type\", \"@id\", \"mip:name\", \"mip:url\", \"mip:start\"],\n",
    "  \"additionalProperties\": False\n",
    "}\n",
    "\n",
    "loc = f'./mip_era/schema.json'\n",
    "json.dump(mip_era_schema, open(loc,'w'),indent=4)\n",
    "\n",
    "\n",
    "mip_era_ctx = {\"@vocab\":\"mip:\",**repo_ctx['@context']}\n",
    "loc = f'./mip_era/context.json'\n",
    "json.dump({\"@context\":mip_era_ctx}, open(loc,'w'),indent=4)\n"
   ]
  },
  {
   "cell_type": "code",
   "execution_count": 5,
   "metadata": {},
   "outputs": [
    {
     "name": "stdout",
     "output_type": "stream",
     "text": [
      "Validation succeeded: CMIP5\n",
      "Validation succeeded: CMIP6\n",
      "Validation succeeded: CMIP6Plus\n"
     ]
    }
   ],
   "source": [
    "mip_era = []\n",
    "\n",
    "for mip in 'CMIP5 CMIP6 CMIP6Plus'.split():\n",
    "    mipl = mip.lower()\n",
    "    entry = {\n",
    "        \"@type\":\"cmip:mip_era\",\n",
    "        \"@id\": f\"mip-cmor-tables:auxillary/mip_era/\"+mipl,\n",
    "        \"mip:name\": mip,\n",
    "        \"mip:url\": \"https://wcrp-cmip.org/\"+mip,\n",
    "        \"mip:start\":\"2999\",\n",
    "        \"mip:end\":\"2999\",\n",
    "        }\n",
    "    \n",
    "    validate_json(entry,mip_era_schema,name = mip)\n",
    "\n",
    "    loc = f'./mip_era/{mipl}.json'\n",
    "    json.dump(entry, open(loc,'w'),indent=4)\n",
    "    \n",
    "    \n",
    "    \n",
    "\n",
    "    \n",
    "    \n",
    "       \n",
    "    \n",
    "# context['cmip:mip_era'] = {\"@vocab\":\"mip\",**repo_ctx['@context']}\n",
    "\n",
    "# context"
   ]
  },
  {
   "cell_type": "code",
   "execution_count": null,
   "metadata": {},
   "outputs": [],
   "source": []
  },
  {
   "cell_type": "code",
   "execution_count": null,
   "metadata": {},
   "outputs": [],
   "source": []
  }
 ],
 "metadata": {
  "kernelspec": {
   "display_name": "Python 3",
   "language": "python",
   "name": "python3"
  },
  "language_info": {
   "codemirror_mode": {
    "name": "ipython",
    "version": 3
   },
   "file_extension": ".py",
   "mimetype": "text/x-python",
   "name": "python",
   "nbconvert_exporter": "python",
   "pygments_lexer": "ipython3",
   "version": "3.10.10"
  }
 },
 "nbformat": 4,
 "nbformat_minor": 2
}

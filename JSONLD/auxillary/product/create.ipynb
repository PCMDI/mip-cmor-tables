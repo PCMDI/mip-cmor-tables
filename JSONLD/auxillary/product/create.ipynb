{
 "cells": [
  {
   "cell_type": "code",
   "execution_count": 3,
   "metadata": {},
   "outputs": [],
   "source": [
    "import json \n",
    "import jsonschema\n",
    "from jsonschema import validate\n",
    "\n",
    "'''\n",
    "mip-cmor-tables/auxillary/product\n",
    "'''\n",
    "\n",
    "def validate_json(data, schema, name = 'none'):\n",
    "    try:\n",
    "        validate(instance=data, schema=schema)\n",
    "        print(f\"Validation succeeded: {name}\")\n",
    "    except jsonschema.exceptions.ValidationError as err:\n",
    "        print(\"Validation error:\", err.message)\n",
    "\n",
    "# repo_ctx = json.load(open('../../context.json'))"
   ]
  },
  {
   "cell_type": "code",
   "execution_count": 4,
   "metadata": {},
   "outputs": [],
   "source": [
    "context = {}"
   ]
  },
  {
   "cell_type": "code",
   "execution_count": 5,
   "metadata": {},
   "outputs": [],
   "source": [
    "\n",
    "product_schema = {\n",
    "    \"type\": \"object\",\n",
    "    \"properties\": {\n",
    "        \"@type\": {\n",
    "            \"type\": \"string\",\n",
    "            \"enum\": [\"cmip:product\"]\n",
    "        },\n",
    "        \"@id\": {\n",
    "            \"type\": \"string\",\n",
    "            \"pattern\": \"^mip-cmor-tables:auxillary/product/.+$\"\n",
    "        },\n",
    "        \"kind\": {\n",
    "            \"type\": \"string\"\n",
    "        },\n",
    "        \"description\": {\n",
    "            \"type\": \"string\"\n",
    "        },\n",
    "    },\n",
    "    \"required\": [\n",
    "        \"@type\",\n",
    "        \"@id\",\n",
    "        \"kind\",\n",
    "        \"description\"\n",
    "    ]\n",
    "}\n",
    "\n",
    "loc = f'./schema.json'\n",
    "json.dump(\n",
    "    product_schema, open(loc,'w'),indent=4)\n",
    "\n",
    "\n"
   ]
  },
  {
   "cell_type": "code",
   "execution_count": 7,
   "metadata": {},
   "outputs": [],
   "source": [
    "\n",
    "ctx = {\"@vocab\":\"product:\",**{}}\n",
    "loc = f'./context.json'\n",
    "\n",
    "json.dump({\"@context\":ctx}, open(loc,'w'),indent=4)\n"
   ]
  },
  {
   "cell_type": "code",
   "execution_count": 8,
   "metadata": {},
   "outputs": [],
   "source": [
    "pd = {\n",
    "    \"model-output\": \"Output produced from a model simulation. This includes the various data points and metrics generated as a result of running climate models, which simulate physical, chemical, and biological processes affecting the climate system.\",\n",
    "    \"forcing-dataset\": \"Data sets used to drive model simulations. These include external factors like greenhouse gas concentrations, solar radiation, and land use changes that influence the climate model outputs.\",\n",
    "    \"derived\": \"Data that has been processed or transformed from raw model output. Derived data includes value-added products such as anomalies, indices, or other statistics that are computed from the original model outputs.\",\n",
    "    \"observations\": \"Data collected from direct measurements of the climate system. This includes data from ground stations, satellites, buoys, and other observational platforms, which serve as a reference for validating and comparing model outputs.\"\n",
    "}\n"
   ]
  },
  {
   "cell_type": "code",
   "execution_count": 9,
   "metadata": {},
   "outputs": [
    {
     "name": "stdout",
     "output_type": "stream",
     "text": [
      "Validation error: 'product' is not one of ['cmip:product']\n",
      "Validation error: 'product' is not one of ['cmip:product']\n",
      "Validation error: 'product' is not one of ['cmip:product']\n",
      "Validation error: 'product' is not one of ['cmip:product']\n"
     ]
    }
   ],
   "source": [
    "\n",
    "\n",
    "for kind,description in pd.items():\n",
    "    ll = kind.lower().replace(' ','-')\n",
    "    entry = {\n",
    "        \"@type\":\"product\",\n",
    "        \"@id\": f\"mip-cmor-tables:auxillary/product/\"+ll,\n",
    "        \"kind\": kind,\n",
    "        \"description\": description\n",
    "        }\n",
    "    \n",
    "    validate_json(entry,product_schema,name = ll)\n",
    "\n",
    "    loc = f'./{ll}.json'\n",
    "    json.dump(entry, open(loc,'w'),indent=4)\n",
    "    \n",
    "    \n",
    "    \n",
    "# context['cmip:mip_era'] = {\"@vocab\":\"mip\",**repo_ctx['@context']}\n",
    "\n",
    "# context"
   ]
  },
  {
   "cell_type": "code",
   "execution_count": 10,
   "metadata": {},
   "outputs": [
    {
     "data": {
      "text/plain": [
       "'observations'"
      ]
     },
     "execution_count": 10,
     "metadata": {},
     "output_type": "execute_result"
    }
   ],
   "source": [
    "kind"
   ]
  },
  {
   "cell_type": "code",
   "execution_count": null,
   "metadata": {},
   "outputs": [],
   "source": []
  },
  {
   "cell_type": "code",
   "execution_count": null,
   "metadata": {},
   "outputs": [],
   "source": []
  },
  {
   "cell_type": "code",
   "execution_count": null,
   "metadata": {},
   "outputs": [],
   "source": []
  }
 ],
 "metadata": {
  "kernelspec": {
   "display_name": "Python 3",
   "language": "python",
   "name": "python3"
  },
  "language_info": {
   "codemirror_mode": {
    "name": "ipython",
    "version": 3
   },
   "file_extension": ".py",
   "mimetype": "text/x-python",
   "name": "python",
   "nbconvert_exporter": "python",
   "pygments_lexer": "ipython3",
   "version": "3.10.10"
  }
 },
 "nbformat": 4,
 "nbformat_minor": 2
}

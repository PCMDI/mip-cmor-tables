{
 "cells": [
  {
   "cell_type": "code",
   "execution_count": 1,
   "metadata": {},
   "outputs": [
    {
     "name": "stdout",
     "output_type": "stream",
     "text": [
      "/Users/daniel.ellis/WIPwork/mip-cmor-tables\n"
     ]
    }
   ],
   "source": [
    "from __setup__ import * \n",
    "lddata = await lddata\n",
    "\n",
    "frame = {\n",
    "        \"@type\": [\n",
    "            \"mip:institution\",\n",
    "            \"mip:consortium\"\n",
    "        ],\n",
    "        \"@embed\":\"@always\",\n",
    "}\n",
    "# cmipld.sync(lddata)\n",
    "# await lddata\n",
    "\n",
    "frame = cmipld.Frame(lddata,frame).clean(['rmld','untag'])\n",
    "\n",
    "data = cmipld.utils.sorted_dict(frame.filterkeys(['cmip-acronym','name','ror'],True).keyval('cmip-acronym'))\n",
    "\n",
    "import json\n",
    "json.dump(data,open(base+'/MIP_organisations.json','w'),indent=4)\n"
   ]
  },
  {
   "cell_type": "code",
   "execution_count": 2,
   "metadata": {},
   "outputs": [],
   "source": []
  },
  {
   "cell_type": "code",
   "execution_count": 3,
   "metadata": {},
   "outputs": [],
   "source": []
  },
  {
   "cell_type": "code",
   "execution_count": 4,
   "metadata": {},
   "outputs": [
    {
     "data": {
      "text/plain": [
       "{'MIROC': {'name': 'MIROC Consortium', 'ror': None},\n",
       " 'NCC': {'name': 'NCC Consortium', 'ror': None},\n",
       " 'SOLARIS HEPPA': {'name': 'SOLARIS HEPPA Consortium', 'ror': None},\n",
       " 'AER': {'name': 'Atmospheric and Environmental Research', 'ror': '04cg70g73'},\n",
       " 'AoR': {'name': 'Astronomical Observatory of Rome', 'ror': '02hnp4676'},\n",
       " 'AS-RCEC': {'name': 'Research Center for Environmental Changes, Academia Sinica',\n",
       "  'ror': '050qpg053'},\n",
       " 'AUoT': {'name': 'Aristotle University of Thessaloniki', 'ror': '02j61yw88'},\n",
       " 'AWI': {'name': 'Alfred Wegener Institute for Polar and Marine Research',\n",
       "  'ror': '032e6b942'},\n",
       " 'BAS': {'name': 'British Antarctic Survey', 'ror': '01rhff309'},\n",
       " 'BCC': {'name': 'Beijing Biocytogen (China)', 'ror': '01spyyb53'},\n",
       " 'CAMS': {'name': 'Chinese Academy of Meteorological Sciences',\n",
       "  'ror': '034b53w38'},\n",
       " 'CAS': {'name': 'Chinese Academy of Sciences', 'ror': '034t30j35'},\n",
       " 'CCCma': {'name': 'Environment and Climate Change Canada',\n",
       "  'ror': '026ny0e17'},\n",
       " 'CCCR-IITM': {'name': 'Indian Institute of Tropical Meteorology',\n",
       "  'ror': '03jf2m686'},\n",
       " 'CEDA': {'name': 'Centre for Environmental Data Analysis',\n",
       "  'ror': '04j4kad11'},\n",
       " 'CMCC': {'name': 'Euro-Mediterranean Center for Climate Change',\n",
       "  'ror': '01tf11a61'},\n",
       " 'CNES': {'name': \"Centre National d'Études Spatiales\", 'ror': '04h1h0y33'},\n",
       " 'CSIRO': {'name': 'Commonwealth Scientific and Industrial Research Organisation',\n",
       "  'ror': '03qn8fb07'},\n",
       " 'DKRZ': {'name': 'German Climate Computing Centre', 'ror': '03ztgj037'},\n",
       " 'DWD': {'name': 'German Meteorological Service', 'ror': '02nrqs528'},\n",
       " 'EAWAG': {'name': 'Swiss Federal Institute of Aquatic Science and Technology',\n",
       "  'ror': '00pc48d59'},\n",
       " 'ECMWF': {'name': 'European Centre for Medium-Range Weather Forecasts',\n",
       "  'ror': '014w0fd65'},\n",
       " 'ESSO': {'name': 'Indian National Centre for Ocean Information Services',\n",
       "  'ror': '04xbqmj23'},\n",
       " 'FMI': {'name': 'Finnish Meteorological Institute', 'ror': '05hppb561'},\n",
       " 'FUBerlin': {'name': 'Freie Universität Berlin', 'ror': '046ak2485'},\n",
       " 'IACETH': {'name': 'ETH Zurich', 'ror': '05a28rw58'},\n",
       " 'IFM-GEOMAR': {'name': 'GEOMAR Helmholtz Centre for Ocean Research Kiel',\n",
       "  'ror': '02h2x0161'},\n",
       " 'ImperialCollege': {'name': 'Imperial College London', 'ror': '041kmwe10'},\n",
       " 'INM': {'name': 'Institute of Numerical Mathematics', 'ror': '00520ey40'},\n",
       " 'IPSL': {'name': 'Institut Pierre-Simon Laplace', 'ror': '02haar591'},\n",
       " 'ISSI': {'name': 'International Space Science Institute', 'ror': '01xm30661'},\n",
       " 'JAXA': {'name': 'Japan Aerospace Exploration Agency', 'ror': '059yhyy33'},\n",
       " 'KIOST': {'name': 'Korea Institute of Ocean Science and Technology',\n",
       "  'ror': '032m55064'},\n",
       " 'KIT': {'name': 'Karlsruhe Institute of Technology', 'ror': '04t3en479'},\n",
       " 'LLNL': {'name': 'Lawrence Livermore National Laboratory',\n",
       "  'ror': '041nk4h53'},\n",
       " 'LPC2E': {'name': 'Laboratoire de Physique et Chimie de l’Environnement et de l’Espace',\n",
       "  'ror': '049k66y27'},\n",
       " 'MOHC': {'name': 'Met Office', 'ror': '01ch2yn61'},\n",
       " 'MPI-B': {'name': 'Max Planck Institute for Biogeochemistry',\n",
       "  'ror': '051yxp643'},\n",
       " 'MPI-M': {'name': 'Max Planck Institute for Meteorology', 'ror': '05esem239'},\n",
       " 'MPS': {'name': 'Max Planck Institute for Solar System Research',\n",
       "  'ror': '02j6gm739'},\n",
       " 'MRI': {'name': 'Japan Meteorological Agency', 'ror': '02772kk97'},\n",
       " 'NASA-GISS': {'name': 'Goddard Institute for Space Studies',\n",
       "  'ror': '01cyfxe35'},\n",
       " 'NASA-GSFC': {'name': 'Goddard Space Flight Center', 'ror': '0171mag52'},\n",
       " 'NASA-JPL': {'name': 'Jet Propulsion Laboratory', 'ror': '027k65916'},\n",
       " 'NASA-LaRC': {'name': 'Langley Research Center', 'ror': '0399mhs52'},\n",
       " 'NCAR': {'name': 'National Center for Atmospheric Research',\n",
       "  'ror': '05cvfcr44'},\n",
       " 'NCAS': {'name': 'Uks', 'ror': '03q36cn05'},\n",
       " 'NERC': {'name': 'Natural Environment Research Council', 'ror': '02b5d8509'},\n",
       " 'NIWA': {'name': 'National Institute of Water and Atmospheric Research',\n",
       "  'ror': '04hxcaz34'},\n",
       " 'NOAA-NCEI': {'name': 'NOAA National Centers for Environmental Information',\n",
       "  'ror': '04r0wrp59'},\n",
       " 'NTU': {'name': 'National Taiwan University', 'ror': '05bqach95'},\n",
       " 'NUIST': {'name': 'Nanjing University', 'ror': '01rxvg760'},\n",
       " 'OSU': {'name': 'Oregon State University', 'ror': '00ysfqy60'},\n",
       " 'PCMDI': {'name': 'Lawrence Livermore National Laboratory',\n",
       "  'ror': '041nk4h53'},\n",
       " 'PMOD': {'name': 'Physikalisch-Meteorologisches Observatorium Davos',\n",
       "  'ror': '02gtrqv93'},\n",
       " 'PNNL-JGCRI': {'name': 'Joint Global Change Research Institute',\n",
       "  'ror': '058cmd703'},\n",
       " 'PNNL-WACCEM': {'name': 'Pacific Northwest National Laboratory',\n",
       "  'ror': '05h992307'},\n",
       " 'RSS': {'name': 'Remote Sensing Systems (United States)', 'ror': '01vp8h012'},\n",
       " 'SNU': {'name': 'Seoul National University', 'ror': '04h9pn542'},\n",
       " 'THU': {'name': 'Tsinghua University', 'ror': '03cve4549'},\n",
       " 'UA': {'name': 'University of Arizona', 'ror': '03m2x1q45'},\n",
       " 'UCI': {'name': 'University of California, Irvine', 'ror': '04gyf1771'},\n",
       " 'UColorado': {'name': 'University of Colorado System', 'ror': '00jc20583'},\n",
       " 'UCSB': {'name': 'University of California, Santa Barbara',\n",
       "  'ror': '02t274463'},\n",
       " 'UHH': {'name': 'Universität Hamburg', 'ror': '00g30e956'},\n",
       " 'UoBergen': {'name': 'University of Bergen', 'ror': '03zga2b32'},\n",
       " 'UofMD': {'name': 'University of Maryland, College Park', 'ror': '047s2c258'},\n",
       " 'UoLeeds': {'name': 'University of Leeds', 'ror': '024mrxd33'},\n",
       " 'UoM': {'name': 'University of Melbourne', 'ror': '01ej9dk98'},\n",
       " 'UoMontreal': {'name': 'Université de Montréal', 'ror': '0161xgx34'},\n",
       " 'UoOtago': {'name': 'University of Otago', 'ror': '01jmxt844'},\n",
       " 'UoOulu': {'name': 'University of Oulu', 'ror': '03yj89h83'},\n",
       " 'UReading': {'name': 'University of Reading', 'ror': '05v62cm79'},\n",
       " 'UW': {'name': 'University of Washington', 'ror': '00cvxb145'},\n",
       " 'VUA': {'name': 'Vrije Universiteit Amsterdam', 'ror': '008xxew50'}}"
      ]
     },
     "execution_count": 4,
     "metadata": {},
     "output_type": "execute_result"
    }
   ],
   "source": [
    "\n"
   ]
  },
  {
   "cell_type": "code",
   "execution_count": null,
   "metadata": {},
   "outputs": [],
   "source": []
  }
 ],
 "metadata": {
  "kernelspec": {
   "display_name": "Python 3",
   "language": "python",
   "name": "python3"
  },
  "language_info": {
   "codemirror_mode": {
    "name": "ipython",
    "version": 3
   },
   "file_extension": ".py",
   "mimetype": "text/x-python",
   "name": "python",
   "nbconvert_exporter": "python",
   "pygments_lexer": "ipython3",
   "version": "3.10.10"
  }
 },
 "nbformat": 4,
 "nbformat_minor": 2
}

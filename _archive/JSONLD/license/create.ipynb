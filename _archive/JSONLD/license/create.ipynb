{
 "cells": [
  {
   "cell_type": "code",
   "execution_count": 1,
   "metadata": {},
   "outputs": [],
   "source": [
    "import json \n",
    "import jsonschema\n",
    "from jsonschema import validate\n",
    "\n",
    "'''\n",
    "mip-cmor-tables/license\n",
    "'''\n",
    "\n",
    "def validate_json(data, schema, name = 'none'):\n",
    "    try:\n",
    "        validate(instance=data, schema=schema)\n",
    "        print(f\"Validation succeeded: {name}\")\n",
    "    except jsonschema.exceptions.ValidationError as err:\n",
    "        print(\"Validation error:\", err.message)\n",
    "\n",
    "repo_ctx = json.load(open('../context.json'))"
   ]
  },
  {
   "cell_type": "code",
   "execution_count": 2,
   "metadata": {},
   "outputs": [],
   "source": [
    "context = {}"
   ]
  },
  {
   "cell_type": "code",
   "execution_count": 17,
   "metadata": {},
   "outputs": [],
   "source": [
    "license_schema = {\n",
    "    \"type\": \"object\",\n",
    "    \"properties\": {\n",
    "        \"@type\": {\n",
    "            \"type\": \"string\",\n",
    "            \"enum\": [\"cmip:license\"]\n",
    "        },\n",
    "        \"@id\": {\n",
    "            \"type\": \"string\",\n",
    "            \"pattern\": \"^mip-cmor-tables:license/.+$\"\n",
    "        },\n",
    "        \"license:kind\": {\n",
    "            \"type\": \"string\"\n",
    "        },\n",
    "        \"license:conditions\": {\n",
    "            \"type\": \"string\"\n",
    "        },\n",
    "        \"license:license_id\": {\n",
    "            \"type\": \"string\"\n",
    "        },\n",
    "        \"license:license_url\": {\n",
    "            \"type\": \"string\",\n",
    "            \"format\": \"uri\"\n",
    "        }\n",
    "    },\n",
    "    \"required\": [\n",
    "        \"@type\",\n",
    "        \"@id\",\n",
    "        \"license:kind\",\n",
    "        \"license:conditions\",\n",
    "        \"license:license_id\",\n",
    "        \"license:license_url\"\n",
    "    ]\n",
    "}\n",
    "\n",
    "\n",
    "loc = f'./schema.json'\n",
    "json.dump(license_schema, open(loc,'w'),indent=4)\n",
    "\n",
    "\n"
   ]
  },
  {
   "cell_type": "code",
   "execution_count": 18,
   "metadata": {},
   "outputs": [],
   "source": [
    "\n",
    "ctx = {\"@vocab\":\"license:\",**repo_ctx['@context'].copy()}\n",
    "loc = f'./context.json'\n",
    "\n",
    "json.dump({\"@context\":ctx}, open(loc,'w'),indent=4)\n"
   ]
  },
  {
   "cell_type": "code",
   "execution_count": 19,
   "metadata": {},
   "outputs": [],
   "source": [
    "license = {\n",
    "        \"license\":\"The CMIP6Plus model data linking to this entry is licensed under a {} ({}). Consult https://pcmdi.llnl.gov/CMIP6/TermsOfUse for terms of use governing CMIP6Plus output, including citation requirements and proper acknowledgment. The data producers and data providers make no warranty, either express or implied, including, but not limited to, warranties of merchantability and fitness for a particular purpose. All liabilities arising from the supply of the information (including any liability arising in negligence) are excluded to the fullest extent permitted by law.\",\n",
    "        \"license_options\":{\n",
    "            \"CC BY 4.0\":{\n",
    "                \"license_id\":\"Creative Commons Attribution 4.0 International\",\n",
    "                \"license_url\":\"https://creativecommons.org/licenses/by/4.0/\"\n",
    "            },\n",
    "            \"CC BY-NC-SA 4.0\":{\n",
    "                \"license_id\":\"Creative Commons Attribution-NonCommercial-ShareAlike 4.0 International\",\n",
    "                \"license_url\":\"https://creativecommons.org/licenses/by-nc-sa/4.0/\"\n",
    "            },\n",
    "            \"CC BY-SA 4.0\":{\n",
    "                \"license_id\":\"Creative Commons Attribution-ShareAlike 4.0 International\",\n",
    "                \"license_url\":\"https://creativecommons.org/licenses/by-sa/4.0/\"\n",
    "            },\n",
    "            \"CC0 1.0\":{\n",
    "                \"license_id\":\"Creative Commons CC0 1.0 Universal Public Domain Dedication\",\n",
    "                \"license_url\":\"https://creativecommons.org/publicdomain/zero/1.0/\"\n",
    "            }\n",
    "        }\n",
    "}"
   ]
  },
  {
   "cell_type": "code",
   "execution_count": 20,
   "metadata": {},
   "outputs": [
    {
     "name": "stdout",
     "output_type": "stream",
     "text": [
      "Validation succeeded: CC BY 4.0\n",
      "Validation succeeded: CC BY-NC-SA 4.0\n",
      "Validation succeeded: CC BY-SA 4.0\n",
      "Validation succeeded: CC0 1.0\n"
     ]
    }
   ],
   "source": [
    "\n",
    "\n",
    "for kind,content in license['license_options'].items():\n",
    "    ll = kind.lower().replace(' ','-')\n",
    "    entry = {\n",
    "        \"@type\":\"cmip:license\",\n",
    "        \"@id\": f\"mip-cmor-tables:license/\"+ll,\n",
    "        \"license:kind\": kind,\n",
    "        \"license:conditions\": license['license'].format(content['license_id'],content['license_url']),\n",
    "        \"license:license_id\":content['license_id'],\n",
    "        \"license:license_url\":content['license_url'],\n",
    "        }\n",
    "    \n",
    "    validate_json(entry,license_schema,name = kind)\n",
    "\n",
    "    loc = f'./{ll}.json'\n",
    "    json.dump(entry, open(loc,'w'),indent=4)\n",
    "    \n",
    "    \n",
    "    \n",
    "\n",
    "    \n",
    "    \n",
    "       \n",
    "    \n",
    "# context['cmip:mip_era'] = {\"@vocab\":\"mip\",**repo_ctx['@context']}\n",
    "\n",
    "# context"
   ]
  },
  {
   "cell_type": "code",
   "execution_count": null,
   "metadata": {},
   "outputs": [],
   "source": []
  },
  {
   "cell_type": "code",
   "execution_count": null,
   "metadata": {},
   "outputs": [],
   "source": []
  },
  {
   "cell_type": "code",
   "execution_count": null,
   "metadata": {},
   "outputs": [],
   "source": []
  },
  {
   "cell_type": "code",
   "execution_count": null,
   "metadata": {},
   "outputs": [],
   "source": []
  }
 ],
 "metadata": {
  "kernelspec": {
   "display_name": "Python 3",
   "language": "python",
   "name": "python3"
  },
  "language_info": {
   "codemirror_mode": {
    "name": "ipython",
    "version": 3
   },
   "file_extension": ".py",
   "mimetype": "text/x-python",
   "name": "python",
   "nbconvert_exporter": "python",
   "pygments_lexer": "ipython3",
   "version": "3.10.10"
  }
 },
 "nbformat": 4,
 "nbformat_minor": 2
}

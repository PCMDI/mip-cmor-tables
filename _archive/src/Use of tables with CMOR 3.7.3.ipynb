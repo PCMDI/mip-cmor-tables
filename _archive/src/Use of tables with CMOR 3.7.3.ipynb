{
 "cells": [
  {
   "cell_type": "markdown",
   "id": "2bf0fcdf-cb18-49ce-a932-e81108acd9a6",
   "metadata": {},
   "source": [
    "### Use of mip cmor tables with CMOR 3.7.3\n",
    "\n",
    "To use the mip cmor tables with CMOR 3.7.3 a minor change to the structure of the MIP tables is needed. A forthcoming micro update to CMOR will correct the need for this (possibly CMOR version 3.7.4 or 3.8.0).\n",
    "\n",
    "Note that you'll still need to either copy across or appropriately reference the CVs file for CMOR to work.\n",
    "\n",
    "In the mean time the following procedure will create a 3.7.x compatible version of the tables\n"
   ]
  },
  {
   "cell_type": "code",
   "execution_count": 1,
   "id": "3bcdb663-ab4a-4581-9f25-7d0fbb92b63d",
   "metadata": {},
   "outputs": [],
   "source": [
    "import json\n",
    "import glob\n",
    "import os\n",
    "import shutil"
   ]
  },
  {
   "cell_type": "code",
   "execution_count": 2,
   "id": "ee1f8a4e-44c3-480f-824a-7093480b2a87",
   "metadata": {},
   "outputs": [],
   "source": [
    "# get list of tables files\n",
    "tables = glob.glob('../Tables/*.json')"
   ]
  },
  {
   "cell_type": "code",
   "execution_count": 3,
   "id": "142f27cc-71f6-433c-be3d-17cb2c138239",
   "metadata": {},
   "outputs": [],
   "source": [
    "# files that are not mip tables\n",
    "reference_files = ['../Auxillary_files/MIP_coordinate.json', '../Auxillary_files/MIP_formula_terms.json', \n",
    "                   '../Auxillary_files/MIP_grids.json']"
   ]
  },
  {
   "cell_type": "code",
   "execution_count": 4,
   "id": "e1e65311-2307-4fe7-9155-7a532ea20ec8",
   "metadata": {},
   "outputs": [],
   "source": [
    "# Set up output directory and clear it if has anything in it\n",
    "output_directory = '../Tables_3.7.3'\n",
    "if os.path.exists(output_directory):\n",
    "    existing_files = glob.glob(output_directory + '/*')\n",
    "    for filename in existing_files:\n",
    "        if os.path.basename(filename).startswith('MIP_'):\n",
    "            os.unlink(filename)\n",
    "else:\n",
    "    os.mkdir(output_directory)\n"
   ]
  },
  {
   "cell_type": "code",
   "execution_count": 5,
   "id": "bf25b350-470c-4290-a827-3c51e41a0be2",
   "metadata": {},
   "outputs": [],
   "source": [
    "# For each table\n",
    "for table in tables:\n",
    "    # skip reference files\n",
    "    if table in reference_files:\n",
    "        continue\n",
    "        \n",
    "    # read JSON\n",
    "    with open(table, 'r') as fh:\n",
    "        table_data = json.load(fh)\n",
    "\n",
    "    # amend cmor version for compatibility check\n",
    "    table_data['Header']['cmor_version'] = '3.7.3'\n",
    "\n",
    "    # replace dimensions with space separated strings, \n",
    "    # and the same for the modeling_realm (otherwise 'realm' in the output files becomes \"[\"\n",
    "    for var_name, entry in table_data['variable_entry'].items():\n",
    "        entry['dimensions'] = ' '.join(entry['dimensions'])\n",
    "        entry['modeling_realm'] = ' '.join(entry['modeling_realm'])\n",
    "\n",
    "    # write out to output_directory\n",
    "    output_file = os.path.join(output_directory, 'MIP_{}.json'.format(table_data['Header']['table_id']))\n",
    "    with open(output_file, 'w') as fh:\n",
    "        json.dump(table_data, fh, sort_keys=True, indent=2)\n",
    "    \n"
   ]
  },
  {
   "cell_type": "code",
   "execution_count": 6,
   "id": "9a8993aa-0292-4f9f-a905-5917b7c0f65e",
   "metadata": {},
   "outputs": [],
   "source": [
    "# copy reference files\n",
    "for filename in reference_files:\n",
    "    destination = os.path.join(output_directory, os.path.basename(filename))\n",
    "    shutil.copy(filename, destination)\n"
   ]
  }
 ],
 "metadata": {
  "kernelspec": {
   "display_name": "Python 3 (ipykernel)",
   "language": "python",
   "name": "python3"
  },
  "language_info": {
   "codemirror_mode": {
    "name": "ipython",
    "version": 3
   },
   "file_extension": ".py",
   "mimetype": "text/x-python",
   "name": "python",
   "nbconvert_exporter": "python",
   "pygments_lexer": "ipython3",
   "version": "3.10.12"
  }
 },
 "nbformat": 4,
 "nbformat_minor": 5
}

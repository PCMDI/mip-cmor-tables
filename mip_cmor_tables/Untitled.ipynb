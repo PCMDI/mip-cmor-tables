{
 "cells": [
  {
   "cell_type": "code",
   "execution_count": 1,
   "id": "187ada0b-fe6d-4074-9be2-9178ab0b2af7",
   "metadata": {},
   "outputs": [],
   "source": [
    "import mip_cmor_tables\n"
   ]
  },
  {
   "cell_type": "code",
   "execution_count": null,
   "id": "8dce51d6-cc34-4ed1-9010-f741dd5e45ae",
   "metadata": {},
   "outputs": [],
   "source": [
    "from importlib import reload\n",
    "reload(mip_cmor_tables)"
   ]
  },
  {
   "cell_type": "code",
   "execution_count": 4,
   "id": "06a07e82-de4b-472e-9024-0bf21c79ecf4",
   "metadata": {},
   "outputs": [],
   "source": [
    "cmor_tables = mip_cmor_tables.MIPTableCollection('../Tables', validate_checksums=False)"
   ]
  },
  {
   "cell_type": "code",
   "execution_count": 6,
   "id": "15088113-3606-4484-b1f4-c27ca1511be9",
   "metadata": {},
   "outputs": [
    {
     "ename": "RuntimeError",
     "evalue": "Filename            \"../Tables/generic_CV.json\"\nExpected checksum   \"md5: f32a885e94b78c37d23971e203effd63\"\nCalculated checksum \"md5: 2e2c3f194adf0a707a41b26e6f7dc891\"",
     "output_type": "error",
     "traceback": [
      "\u001b[0;31m---------------------------------------------------------------------------\u001b[0m",
      "\u001b[0;31mRuntimeError\u001b[0m                              Traceback (most recent call last)",
      "Cell \u001b[0;32mIn[6], line 1\u001b[0m\n\u001b[0;32m----> 1\u001b[0m \u001b[43mtables\u001b[49m\u001b[38;5;241;43m.\u001b[39;49m\u001b[43mgeneric_cv\u001b[49m\u001b[38;5;241;43m.\u001b[39;49m\u001b[43mvalidate_checksum\u001b[49m\u001b[43m(\u001b[49m\u001b[43m)\u001b[49m\n",
      "File \u001b[0;32m/net/home/h03/hadmm/CDDS/github/mip-cmor-tables/mip_cmor_tables/mip_cmor_tables/__init__.py:188\u001b[0m, in \u001b[0;36mChecksummedJSON.validate_checksum\u001b[0;34m(self)\u001b[0m\n\u001b[1;32m    184\u001b[0m \u001b[38;5;28;01mif\u001b[39;00m \u001b[38;5;28mself\u001b[39m\u001b[38;5;241m.\u001b[39mchecksum \u001b[38;5;241m!=\u001b[39m checksum:\n\u001b[1;32m    185\u001b[0m     msg \u001b[38;5;241m=\u001b[39m (\u001b[38;5;124m'\u001b[39m\u001b[38;5;124mFilename            \u001b[39m\u001b[38;5;124m\"\u001b[39m\u001b[38;5;132;01m{}\u001b[39;00m\u001b[38;5;124m\"\u001b[39m\u001b[38;5;130;01m\\n\u001b[39;00m\u001b[38;5;124m'\u001b[39m\n\u001b[1;32m    186\u001b[0m            \u001b[38;5;124m'\u001b[39m\u001b[38;5;124mExpected checksum   \u001b[39m\u001b[38;5;124m\"\u001b[39m\u001b[38;5;132;01m{}\u001b[39;00m\u001b[38;5;124m\"\u001b[39m\u001b[38;5;130;01m\\n\u001b[39;00m\u001b[38;5;124m'\u001b[39m\n\u001b[1;32m    187\u001b[0m            \u001b[38;5;124m'\u001b[39m\u001b[38;5;124mCalculated checksum \u001b[39m\u001b[38;5;124m\"\u001b[39m\u001b[38;5;132;01m{}\u001b[39;00m\u001b[38;5;124m\"\u001b[39m\u001b[38;5;124m'\u001b[39m)\u001b[38;5;241m.\u001b[39mformat(\u001b[38;5;28mself\u001b[39m\u001b[38;5;241m.\u001b[39mfilename, \u001b[38;5;28mself\u001b[39m\u001b[38;5;241m.\u001b[39mchecksum, checksum)\n\u001b[0;32m--> 188\u001b[0m     \u001b[38;5;28;01mraise\u001b[39;00m \u001b[38;5;167;01mRuntimeError\u001b[39;00m(msg)\n",
      "\u001b[0;31mRuntimeError\u001b[0m: Filename            \"../Tables/generic_CV.json\"\nExpected checksum   \"md5: f32a885e94b78c37d23971e203effd63\"\nCalculated checksum \"md5: 2e2c3f194adf0a707a41b26e6f7dc891\""
     ]
    }
   ],
   "source": [
    "cmor_tables.generic_cv.validate_checksum()\n"
   ]
  },
  {
   "cell_type": "code",
   "execution_count": null,
   "id": "22849750-0c93-4c90-875d-1fa05068aa89",
   "metadata": {},
   "outputs": [],
   "source": []
  }
 ],
 "metadata": {
  "kernelspec": {
   "display_name": "Python 3 (ipykernel)",
   "language": "python",
   "name": "python3"
  },
  "language_info": {
   "codemirror_mode": {
    "name": "ipython",
    "version": 3
   },
   "file_extension": ".py",
   "mimetype": "text/x-python",
   "name": "python",
   "nbconvert_exporter": "python",
   "pygments_lexer": "ipython3",
   "version": "3.10.9"
  }
 },
 "nbformat": 4,
 "nbformat_minor": 5
}

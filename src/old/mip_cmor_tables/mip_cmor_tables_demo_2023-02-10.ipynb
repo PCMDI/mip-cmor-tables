{
 "cells": [
  {
   "cell_type": "markdown",
   "id": "c89aa908-be4a-4d73-a77b-c060f8be990b",
   "metadata": {},
   "source": [
    "# Demonstration of mip_cmor_tables code\n",
    "This isn't finished, but is borderline functional as a library to introduce changes such as new variables"
   ]
  },
  {
   "cell_type": "code",
   "execution_count": 1,
   "id": "187ada0b-fe6d-4074-9be2-9178ab0b2af7",
   "metadata": {},
   "outputs": [],
   "source": [
    "import mip_cmor_tables\n"
   ]
  },
  {
   "cell_type": "markdown",
   "id": "e083845e-c2b2-457b-bafb-a9bae7effbbd",
   "metadata": {},
   "source": [
    "### Load the tables collection"
   ]
  },
  {
   "cell_type": "code",
   "execution_count": 2,
   "id": "06a07e82-de4b-472e-9024-0bf21c79ecf4",
   "metadata": {},
   "outputs": [
    {
     "name": "stdout",
     "output_type": "stream",
     "text": [
      "../Tables\n"
     ]
    }
   ],
   "source": [
    "# all checksums validated on load, change optional keyword to False if any manual changes are made\n",
    "cmor_tables = mip_cmor_tables.MIPTableCollection('../Tables', validate_checksums=True)\n",
    "print(cmor_tables.location)"
   ]
  },
  {
   "cell_type": "markdown",
   "id": "35977ba2-8fb0-40a7-80c6-56b2e7d363e3",
   "metadata": {},
   "source": [
    "Access the generic CV and non variable definition information dictionaries directly (or through .data attribute)"
   ]
  },
  {
   "cell_type": "code",
   "execution_count": 3,
   "id": "15088113-3606-4484-b1f4-c27ca1511be9",
   "metadata": {},
   "outputs": [
    {
     "name": "stdout",
     "output_type": "stream",
     "text": [
      "{'CV_collection_modified': '2022-09-05', 'CV_collection_version': '6.3.0.0', 'author': 'Matt Mizielinski <matthew.mizielinski@metoffice.gov.uk>', 'checksum': 'md5: b7696cc5fa72537af51f3b37e3e70e37', 'institution_id': 'MOHC', 'previous_commit': 'To be added', 'specs_doc': 'v6.3.0 (link TBC)'}\n",
      "{'checksum': 'md5: 075c8144e4b35d140242b028ed3c0004'}\n",
      "{'checksum': 'md5: 58603f544c5db5e9d16e631970aabf92'}\n",
      "{'Conventions': 'CF-1.7 CMIP-6.3', 'approx_interval': '<NEEDS WORK>', 'checksum': 'md5: 39e7a038c812a390fc0e412653363015', 'cmor_version': '4.0', 'data_specs_version': '6.3.0.0', 'generic_levels': '', 'int_missing_value': '-999', 'missing_value': '1e20', 'product': 'model-output', 'table_date': '2022-09-05', 'table_id': 'grids'}\n"
     ]
    }
   ],
   "source": [
    "# Key components directly available\n",
    "print(cmor_tables.generic_cv['Header'])\n",
    "print(cmor_tables.coordinate.data['Header'])\n",
    "print(cmor_tables.formula_terms['Header'])\n",
    "print(cmor_tables.grids.data['Header'])"
   ]
  },
  {
   "cell_type": "markdown",
   "id": "c9bcfde3-3f25-49b7-bdde-9a3a80fad496",
   "metadata": {},
   "source": [
    "## Get hold of a table, and obtain a variable"
   ]
  },
  {
   "cell_type": "code",
   "execution_count": 4,
   "id": "22849750-0c93-4c90-875d-1fa05068aa89",
   "metadata": {},
   "outputs": [
    {
     "data": {
      "text/plain": [
       "{'branded_variable_name': 'tas_mon-ap-tav-h02-hxy',\n",
       " 'cell_measures': 'area: areacella',\n",
       " 'cell_methods': 'area: time: mean',\n",
       " 'comment': 'near-surface (usually, 2 meter) air temperature',\n",
       " 'dimensions': ['longitude', 'latitude', 'time', 'height2m'],\n",
       " 'frequency': 'mon',\n",
       " 'long_name': 'Near-Surface Air Temperature',\n",
       " 'modeling_realm': ['atmos'],\n",
       " 'out_name': 'tas',\n",
       " 'positive': '',\n",
       " 'provenance': {'CMIP6': {'dreq_uid': 'bab9237c-e5dd-11e5-8482-ac72891c3257',\n",
       "   'mip_table': 'Amon',\n",
       "   'variable_name': 'tas'}},\n",
       " 'standard_name': 'air_temperature',\n",
       " 'type': 'real',\n",
       " 'units': 'K',\n",
       " 'validation': {'ok_max_mean_abs': 295.0,\n",
       "  'ok_min_mean_abs': 255.0,\n",
       "  'valid_max': 350.0,\n",
       "  'valid_min': 170.0}}"
      ]
     },
     "execution_count": 4,
     "metadata": {},
     "output_type": "execute_result"
    }
   ],
   "source": [
    "# Retrieve a table (just an extended dictionary with ability to validate checksums)\n",
    "APmon = cmor_tables.tables['APmon']\n",
    "APmon.validate_checksum()\n",
    "APmon['variable_entry']['tas']\n",
    "\n"
   ]
  },
  {
   "cell_type": "markdown",
   "id": "2d6f956e-ef18-4668-8e40-9a5c1bf0935f",
   "metadata": {},
   "source": [
    "#### modify dictionary and confirm that checksum no longer match (leading to exception being raised)"
   ]
  },
  {
   "cell_type": "code",
   "execution_count": 5,
   "id": "142465bb-dd4c-437a-8089-181597f9d651",
   "metadata": {},
   "outputs": [
    {
     "ename": "RuntimeError",
     "evalue": "Filename            \"../Tables/APmon.json\"\nExpected checksum   \"md5: 41fceb0479b84a65ecf89be89da06def\"\nCalculated checksum \"md5: 85ad89519c5a644af70a4ff42c38cb1f\"",
     "output_type": "error",
     "traceback": [
      "\u001b[0;31m---------------------------------------------------------------------------\u001b[0m",
      "\u001b[0;31mRuntimeError\u001b[0m                              Traceback (most recent call last)",
      "Cell \u001b[0;32mIn[5], line 4\u001b[0m\n\u001b[1;32m      2\u001b[0m original_value \u001b[38;5;241m=\u001b[39m APmon[\u001b[38;5;124m'\u001b[39m\u001b[38;5;124mHeader\u001b[39m\u001b[38;5;124m'\u001b[39m][\u001b[38;5;124m'\u001b[39m\u001b[38;5;124mapprox_interval\u001b[39m\u001b[38;5;124m'\u001b[39m]\n\u001b[1;32m      3\u001b[0m APmon[\u001b[38;5;124m'\u001b[39m\u001b[38;5;124mHeader\u001b[39m\u001b[38;5;124m'\u001b[39m][\u001b[38;5;124m'\u001b[39m\u001b[38;5;124mapprox_interval\u001b[39m\u001b[38;5;124m'\u001b[39m] \u001b[38;5;241m=\u001b[39m \u001b[38;5;124m'\u001b[39m\u001b[38;5;124mjunk\u001b[39m\u001b[38;5;124m'\u001b[39m\n\u001b[0;32m----> 4\u001b[0m \u001b[43mAPmon\u001b[49m\u001b[38;5;241;43m.\u001b[39;49m\u001b[43mvalidate_checksum\u001b[49m\u001b[43m(\u001b[49m\u001b[43m)\u001b[49m\n",
      "File \u001b[0;32m/net/home/h03/hadmm/CDDS/github/mip-cmor-tables/mip_cmor_tables/mip_cmor_tables/__init__.py:190\u001b[0m, in \u001b[0;36mChecksummedJSON.validate_checksum\u001b[0;34m(self)\u001b[0m\n\u001b[1;32m    186\u001b[0m \u001b[38;5;28;01mif\u001b[39;00m \u001b[38;5;28mself\u001b[39m\u001b[38;5;241m.\u001b[39mchecksum \u001b[38;5;241m!=\u001b[39m checksum:\n\u001b[1;32m    187\u001b[0m     msg \u001b[38;5;241m=\u001b[39m (\u001b[38;5;124m'\u001b[39m\u001b[38;5;124mFilename            \u001b[39m\u001b[38;5;124m\"\u001b[39m\u001b[38;5;132;01m{}\u001b[39;00m\u001b[38;5;124m\"\u001b[39m\u001b[38;5;130;01m\\n\u001b[39;00m\u001b[38;5;124m'\u001b[39m\n\u001b[1;32m    188\u001b[0m            \u001b[38;5;124m'\u001b[39m\u001b[38;5;124mExpected checksum   \u001b[39m\u001b[38;5;124m\"\u001b[39m\u001b[38;5;132;01m{}\u001b[39;00m\u001b[38;5;124m\"\u001b[39m\u001b[38;5;130;01m\\n\u001b[39;00m\u001b[38;5;124m'\u001b[39m\n\u001b[1;32m    189\u001b[0m            \u001b[38;5;124m'\u001b[39m\u001b[38;5;124mCalculated checksum \u001b[39m\u001b[38;5;124m\"\u001b[39m\u001b[38;5;132;01m{}\u001b[39;00m\u001b[38;5;124m\"\u001b[39m\u001b[38;5;124m'\u001b[39m)\u001b[38;5;241m.\u001b[39mformat(\u001b[38;5;28mself\u001b[39m\u001b[38;5;241m.\u001b[39mfilename, \u001b[38;5;28mself\u001b[39m\u001b[38;5;241m.\u001b[39mchecksum, checksum)\n\u001b[0;32m--> 190\u001b[0m     \u001b[38;5;28;01mraise\u001b[39;00m \u001b[38;5;167;01mRuntimeError\u001b[39;00m(msg)\n",
      "\u001b[0;31mRuntimeError\u001b[0m: Filename            \"../Tables/APmon.json\"\nExpected checksum   \"md5: 41fceb0479b84a65ecf89be89da06def\"\nCalculated checksum \"md5: 85ad89519c5a644af70a4ff42c38cb1f\""
     ]
    }
   ],
   "source": [
    "# update an element of the dictionary and confirm that checksums no longer match\n",
    "original_value = APmon['Header']['approx_interval']\n",
    "APmon['Header']['approx_interval'] = 'junk'\n",
    "APmon.validate_checksum()"
   ]
  },
  {
   "cell_type": "markdown",
   "id": "d8c11cac-8f4d-4200-b746-357ac0ca33ba",
   "metadata": {},
   "source": [
    "#### Update checksums and all validates fine"
   ]
  },
  {
   "cell_type": "code",
   "execution_count": 6,
   "id": "2425cba1-e6b6-4db1-a972-34b58693599b",
   "metadata": {},
   "outputs": [],
   "source": [
    "# update the checksum and everything should validate again\n",
    "APmon.update_checksum()\n",
    "APmon.validate_checksum()"
   ]
  },
  {
   "cell_type": "code",
   "execution_count": 7,
   "id": "abd3682c-c28d-4003-a643-d2258602013b",
   "metadata": {},
   "outputs": [],
   "source": [
    "# restore original value\n",
    "APmon['Header']['approx_interval'] = original_value\n",
    "APmon.update_checksum()"
   ]
  },
  {
   "cell_type": "markdown",
   "id": "e20cfbac-5576-4bf1-9232-ad1296b7e28b",
   "metadata": {},
   "source": [
    "#### Obtain variable directly from MIPTableCollection as a MIPVariable object (relatively simple dataclass)"
   ]
  },
  {
   "cell_type": "code",
   "execution_count": 8,
   "id": "39c133a2-7297-46d7-b728-b6c330b3a020",
   "metadata": {},
   "outputs": [],
   "source": [
    "APmon_tas = cmor_tables.get_variable('APmon', 'tas')"
   ]
  },
  {
   "cell_type": "code",
   "execution_count": 9,
   "id": "2ef3da58-c5d0-49ac-9e65-4b5040ae72b6",
   "metadata": {},
   "outputs": [
    {
     "name": "stdout",
     "output_type": "stream",
     "text": [
      "MIPVariable(parent=<mip_cmor_tables.MIPTableCollection object at 0x7f82797afb50>, branded_variable_name='tas_mon-ap-tav-h02-hxy', cell_measures='area: areacella', cell_methods='area: time: mean', comment='near-surface (usually, 2 meter) air temperature', dimensions=['longitude', 'latitude', 'time', 'height2m'], frequency='mon', long_name='Near-Surface Air Temperature', modeling_realm=['atmos'], name='tas', out_name='tas', positive='', provenance={'CMIP6': {'dreq_uid': 'bab9237c-e5dd-11e5-8482-ac72891c3257', 'mip_table': 'Amon', 'variable_name': 'tas'}}, standard_name='air_temperature', table_id='APmon', type='real', units='K', validation={'ok_max_mean_abs': 295.0, 'ok_min_mean_abs': 255.0, 'valid_max': 350.0, 'valid_min': 170.0}, flag_meanings=None, flag_values=None)\n"
     ]
    },
    {
     "data": {
      "text/plain": [
       "{'parent': <mip_cmor_tables.MIPTableCollection at 0x7f82797afb50>,\n",
       " 'branded_variable_name': 'tas_mon-ap-tav-h02-hxy',\n",
       " 'cell_measures': 'area: areacella',\n",
       " 'cell_methods': 'area: time: mean',\n",
       " 'comment': 'near-surface (usually, 2 meter) air temperature',\n",
       " 'dimensions': ['longitude', 'latitude', 'time', 'height2m'],\n",
       " 'frequency': 'mon',\n",
       " 'long_name': 'Near-Surface Air Temperature',\n",
       " 'modeling_realm': ['atmos'],\n",
       " 'name': 'tas',\n",
       " 'out_name': 'tas',\n",
       " 'positive': '',\n",
       " 'provenance': {'CMIP6': {'dreq_uid': 'bab9237c-e5dd-11e5-8482-ac72891c3257',\n",
       "   'mip_table': 'Amon',\n",
       "   'variable_name': 'tas'}},\n",
       " 'standard_name': 'air_temperature',\n",
       " 'table_id': 'APmon',\n",
       " 'type': 'real',\n",
       " 'units': 'K',\n",
       " 'validation': {'ok_max_mean_abs': 295.0,\n",
       "  'ok_min_mean_abs': 255.0,\n",
       "  'valid_max': 350.0,\n",
       "  'valid_min': 170.0},\n",
       " 'flag_meanings': None,\n",
       " 'flag_values': None}"
      ]
     },
     "execution_count": 9,
     "metadata": {},
     "output_type": "execute_result"
    }
   ],
   "source": [
    "print(APmon_tas)\n",
    "vars(APmon_tas)\n"
   ]
  },
  {
   "cell_type": "markdown",
   "id": "09ae46e2-449c-481e-9cb4-da76cd3c4188",
   "metadata": {},
   "source": [
    "#### Construct a new variable linked to the cmor_tables (needs link to ensure that the coordinates information and the like can be validated)"
   ]
  },
  {
   "cell_type": "code",
   "execution_count": 10,
   "id": "d40be526-faf4-4058-8391-9ae84f6c82f0",
   "metadata": {},
   "outputs": [
    {
     "data": {
      "text/plain": [
       "{'parent': <mip_cmor_tables.MIPTableCollection at 0x7f82797afb50>,\n",
       " 'branded_variable_name': None,\n",
       " 'cell_measures': None,\n",
       " 'cell_methods': None,\n",
       " 'comment': None,\n",
       " 'dimensions': [],\n",
       " 'frequency': None,\n",
       " 'long_name': None,\n",
       " 'modeling_realm': None,\n",
       " 'name': None,\n",
       " 'out_name': None,\n",
       " 'positive': None,\n",
       " 'provenance': {},\n",
       " 'standard_name': None,\n",
       " 'table_id': None,\n",
       " 'type': None,\n",
       " 'units': None,\n",
       " 'validation': {},\n",
       " 'flag_meanings': None,\n",
       " 'flag_values': None}"
      ]
     },
     "execution_count": 10,
     "metadata": {},
     "output_type": "execute_result"
    }
   ],
   "source": [
    "new_variable = mip_cmor_tables.MIPVariable(cmor_tables)\n",
    "vars(new_variable)"
   ]
  },
  {
   "cell_type": "markdown",
   "id": "e6301630-9887-4aba-ae49-a977d3743845",
   "metadata": {},
   "source": [
    "#### provide invalid data and check"
   ]
  },
  {
   "cell_type": "code",
   "execution_count": 11,
   "id": "2f1c0e98-2cc9-4f80-bedb-d2131aabfd9b",
   "metadata": {},
   "outputs": [
    {
     "ename": "AssertionError",
     "evalue": "Dimensions \"junk\" not found in the coordinates.json file",
     "output_type": "error",
     "traceback": [
      "\u001b[0;31m---------------------------------------------------------------------------\u001b[0m",
      "\u001b[0;31mAssertionError\u001b[0m                            Traceback (most recent call last)",
      "Cell \u001b[0;32mIn[11], line 2\u001b[0m\n\u001b[1;32m      1\u001b[0m new_variable\u001b[38;5;241m.\u001b[39mdimensions \u001b[38;5;241m=\u001b[39m [\u001b[38;5;124m'\u001b[39m\u001b[38;5;124mjunk\u001b[39m\u001b[38;5;124m'\u001b[39m]\n\u001b[0;32m----> 2\u001b[0m \u001b[43mnew_variable\u001b[49m\u001b[38;5;241;43m.\u001b[39;49m\u001b[43mcheck\u001b[49m\u001b[43m(\u001b[49m\u001b[43m)\u001b[49m\n",
      "File \u001b[0;32m/net/home/h03/hadmm/CDDS/github/mip-cmor-tables/mip_cmor_tables/mip_cmor_tables/__init__.py:286\u001b[0m, in \u001b[0;36mMIPVariable.check\u001b[0;34m(self)\u001b[0m\n\u001b[1;32m    283\u001b[0m     \u001b[38;5;28;01mif\u001b[39;00m value \u001b[38;5;129;01mis\u001b[39;00m \u001b[38;5;129;01mnot\u001b[39;00m \u001b[38;5;28;01mNone\u001b[39;00m \u001b[38;5;129;01mand\u001b[39;00m value:\n\u001b[1;32m    284\u001b[0m         fields_to_check[key] \u001b[38;5;241m=\u001b[39m value\n\u001b[0;32m--> 286\u001b[0m \u001b[38;5;28;43mself\u001b[39;49m\u001b[38;5;241;43m.\u001b[39;49m\u001b[43mcheck_against_miptablecollection\u001b[49m\u001b[43m(\u001b[49m\u001b[43mfields_to_check\u001b[49m\u001b[43m)\u001b[49m\n",
      "File \u001b[0;32m/net/home/h03/hadmm/CDDS/github/mip-cmor-tables/mip_cmor_tables/mip_cmor_tables/__init__.py:317\u001b[0m, in \u001b[0;36mMIPVariable.check_against_miptablecollection\u001b[0;34m(self, data)\u001b[0m\n\u001b[1;32m    312\u001b[0m     \u001b[38;5;28mself\u001b[39m\u001b[38;5;241m.\u001b[39m_assert(\n\u001b[1;32m    313\u001b[0m         \u001b[38;5;28misinstance\u001b[39m(data[\u001b[38;5;124m'\u001b[39m\u001b[38;5;124mdimensions\u001b[39m\u001b[38;5;124m'\u001b[39m], \u001b[38;5;28mlist\u001b[39m), \n\u001b[1;32m    314\u001b[0m         \u001b[38;5;124m'\u001b[39m\u001b[38;5;124mdimensions must be a list\u001b[39m\u001b[38;5;124m'\u001b[39m\n\u001b[1;32m    315\u001b[0m     )\n\u001b[1;32m    316\u001b[0m     \u001b[38;5;28;01mfor\u001b[39;00m i \u001b[38;5;129;01min\u001b[39;00m data[\u001b[38;5;124m'\u001b[39m\u001b[38;5;124mdimensions\u001b[39m\u001b[38;5;124m'\u001b[39m]:\n\u001b[0;32m--> 317\u001b[0m         \u001b[38;5;28;43mself\u001b[39;49m\u001b[38;5;241;43m.\u001b[39;49m\u001b[43m_assert\u001b[49m\u001b[43m(\u001b[49m\n\u001b[1;32m    318\u001b[0m \u001b[43m             \u001b[49m\u001b[43mi\u001b[49m\u001b[43m \u001b[49m\u001b[38;5;129;43;01min\u001b[39;49;00m\u001b[43m \u001b[49m\u001b[38;5;28;43mself\u001b[39;49m\u001b[38;5;241;43m.\u001b[39;49m\u001b[43mparent\u001b[49m\u001b[38;5;241;43m.\u001b[39;49m\u001b[43mcoordinate\u001b[49m\u001b[43m[\u001b[49m\u001b[38;5;124;43m'\u001b[39;49m\u001b[38;5;124;43maxis_entry\u001b[39;49m\u001b[38;5;124;43m'\u001b[39;49m\u001b[43m]\u001b[49m\u001b[43m,\u001b[49m\n\u001b[1;32m    319\u001b[0m \u001b[43m            \u001b[49m\u001b[38;5;124;43m'\u001b[39;49m\u001b[38;5;124;43mDimensions \u001b[39;49m\u001b[38;5;124;43m\"\u001b[39;49m\u001b[38;5;132;43;01m{}\u001b[39;49;00m\u001b[38;5;124;43m\"\u001b[39;49m\u001b[38;5;124;43m not found in the coordinates.json file\u001b[39;49m\u001b[38;5;124;43m'\u001b[39;49m\u001b[38;5;241;43m.\u001b[39;49m\u001b[43mformat\u001b[49m\u001b[43m(\u001b[49m\u001b[43mi\u001b[49m\u001b[43m)\u001b[49m\n\u001b[1;32m    320\u001b[0m \u001b[43m        \u001b[49m\u001b[43m)\u001b[49m\n\u001b[1;32m    321\u001b[0m \u001b[38;5;66;03m#frequency\u001b[39;00m\n\u001b[1;32m    322\u001b[0m \u001b[38;5;28;01mif\u001b[39;00m \u001b[38;5;124m'\u001b[39m\u001b[38;5;124mfrequency\u001b[39m\u001b[38;5;124m'\u001b[39m \u001b[38;5;129;01min\u001b[39;00m data:\n",
      "File \u001b[0;32m/net/home/h03/hadmm/CDDS/github/mip-cmor-tables/mip_cmor_tables/mip_cmor_tables/__init__.py:298\u001b[0m, in \u001b[0;36mMIPVariable._assert\u001b[0;34m(test, message)\u001b[0m\n\u001b[1;32m    295\u001b[0m \u001b[38;5;129m@staticmethod\u001b[39m\n\u001b[1;32m    296\u001b[0m \u001b[38;5;28;01mdef\u001b[39;00m \u001b[38;5;21m_assert\u001b[39m(test: \u001b[38;5;28mbool\u001b[39m, message: \u001b[38;5;28mstr\u001b[39m) \u001b[38;5;241m-\u001b[39m\u001b[38;5;241m>\u001b[39m \u001b[38;5;28;01mNone\u001b[39;00m:\n\u001b[0;32m--> 298\u001b[0m     \u001b[38;5;28;01massert\u001b[39;00m test, message\n",
      "\u001b[0;31mAssertionError\u001b[0m: Dimensions \"junk\" not found in the coordinates.json file"
     ]
    }
   ],
   "source": [
    "new_variable.dimensions = ['junk']\n",
    "new_variable.check()"
   ]
  },
  {
   "cell_type": "markdown",
   "id": "4a15450d-802b-47b2-9cd8-f79dd9620e96",
   "metadata": {},
   "source": [
    "#### provide valid data and check"
   ]
  },
  {
   "cell_type": "code",
   "execution_count": 12,
   "id": "5f3eb48e-89e2-4f12-b97a-db47afb776d9",
   "metadata": {},
   "outputs": [],
   "source": [
    "new_variable.dimensions = ['latitude', 'longitude', 'time']\n",
    "new_variable.check()"
   ]
  },
  {
   "cell_type": "markdown",
   "id": "bbf356a7-35fa-4f0e-8fcc-5444752dbb6c",
   "metadata": {},
   "source": [
    "#### Add a new variable by copying  APmon/tas"
   ]
  },
  {
   "cell_type": "code",
   "execution_count": 13,
   "id": "b7866883-8b4e-45e1-b7cb-c0d939c6c8c8",
   "metadata": {},
   "outputs": [],
   "source": [
    "from copy import deepcopy"
   ]
  },
  {
   "cell_type": "code",
   "execution_count": 14,
   "id": "22860c38-245c-4077-b9eb-901c48e911cc",
   "metadata": {},
   "outputs": [],
   "source": [
    "# Copy APmon_tas and use it to create a climatological equivalent\n",
    "APmonClim_tasClim = deepcopy(APmon_tas)\n",
    "APmonClim_tasClim.dimensions[2] = 'time2'\n",
    "APmonClim_tasClim.cell_methods = 'area: mean time: mean within years time: mean over years'\n",
    "APmonClim_tasClim.frequency = 'monC'\n",
    "APmonClim_tasClim.out_name = 'tasClim'\n",
    "APmonClim_tasClim.name = 'tasClim'\n",
    "APmonClim_tasClim.branded_variable_name = APmonClim_tasClim.branded_variable_name.replace('tas', 'tasClim').replace('mon', 'monC')\n",
    "APmonClim_tasClim.provenance = {'Notes': 'New variable introduced for testing'}"
   ]
  },
  {
   "cell_type": "code",
   "execution_count": 15,
   "id": "97412e8a-3b91-4da5-bf44-53a88ef4aa69",
   "metadata": {},
   "outputs": [],
   "source": [
    "# Check it for consistency\n",
    "APmonClim_tasClim.check()"
   ]
  },
  {
   "cell_type": "code",
   "execution_count": 16,
   "id": "10e8d82e-cef7-4dc2-8bbe-fec0d97ddb72",
   "metadata": {},
   "outputs": [],
   "source": [
    "# Add entry to table APmonClim (needs api)\n",
    "cmor_tables.tables['APmonClim']['variable_entry']['tasClim'] = APmonClim_tasClim.to_json()"
   ]
  },
  {
   "cell_type": "code",
   "execution_count": 17,
   "id": "004ed81a-9a69-4708-9e19-edaeed0e2830",
   "metadata": {},
   "outputs": [
    {
     "data": {
      "text/plain": [
       "MIPVariable(parent=<mip_cmor_tables.MIPTableCollection object at 0x7f82797afb50>, branded_variable_name='tasClim_monC-ap-tav-h02-hxy', cell_measures='area: areacella', cell_methods='area: mean time: mean within years time: mean over years', comment='near-surface (usually, 2 meter) air temperature', dimensions=['longitude', 'latitude', 'time2', 'height2m'], frequency='monC', long_name='Near-Surface Air Temperature', modeling_realm=['atmos'], name='tasClim', out_name='tasClim', positive='', provenance={'Notes': 'New variable introduced for testing'}, standard_name='air_temperature', table_id='APmonClim', type='real', units='K', validation={'ok_max_mean_abs': 295.0, 'ok_min_mean_abs': 255.0, 'valid_max': 350.0, 'valid_min': 170.0}, flag_meanings=None, flag_values=None)"
      ]
     },
     "execution_count": 17,
     "metadata": {},
     "output_type": "execute_result"
    }
   ],
   "source": [
    "# Retrieve new variable from mip table\n",
    "cmor_tables.get_variable('APmonClim', 'tasClim')"
   ]
  },
  {
   "cell_type": "code",
   "execution_count": 18,
   "id": "3fb2dab2-6ca8-4fcc-ad0c-742f5e7fe22f",
   "metadata": {},
   "outputs": [],
   "source": [
    "# Save to disk\n",
    "cmor_tables.save()"
   ]
  },
  {
   "cell_type": "code",
   "execution_count": 19,
   "id": "7497de13-af4d-4d3a-b6fe-ffd12671c101",
   "metadata": {},
   "outputs": [
    {
     "name": "stdout",
     "output_type": "stream",
     "text": [
      "\u001b[1mdiff --git a/Tables/APmonClim.json b/Tables/APmonClim.json\u001b[m\n",
      "\u001b[1mindex 8ad5611..848ea42 100644\u001b[m\n",
      "\u001b[1m--- a/Tables/APmonClim.json\u001b[m\n",
      "\u001b[1m+++ b/Tables/APmonClim.json\u001b[m\n",
      "\u001b[36m@@ -2,7 +2,7 @@\u001b[m\n",
      "   \"Header\": {\u001b[m\n",
      "     \"Conventions\": \"CF-1.7 CMIP-6.3\",\u001b[m\n",
      "     \"approx_interval\": \"<NEEDS WORK>\",\u001b[m\n",
      "\u001b[31m-    \"checksum\": \"md5: 6b1dc8e2cad0c8e9115d9e9c855205b5\",\u001b[m\n",
      "\u001b[32m+\u001b[m\u001b[32m    \"checksum\": \"md5: 9d937c8817b27a11a92d5b75ac854057\",\u001b[m\n",
      "     \"cmor_version\": \"4.0\",\u001b[m\n",
      "     \"data_specs_version\": \"6.3.0.0\",\u001b[m\n",
      "     \"generic_levels\": \"\",\u001b[m\n",
      "\u001b[36m@@ -253,6 +253,37 @@\u001b[m\n",
      "         \"valid_max\": \"\",\u001b[m\n",
      "         \"valid_min\": \"\"\u001b[m\n",
      "       }\u001b[m\n",
      "\u001b[32m+\u001b[m\u001b[32m    },\u001b[m\n",
      "\u001b[32m+\u001b[m\u001b[32m    \"tasClim\": {\u001b[m\n",
      "\u001b[32m+\u001b[m\u001b[32m      \"branded_variable_name\": \"tasClim_monC-ap-tav-h02-hxy\",\u001b[m\n",
      "\u001b[32m+\u001b[m\u001b[32m      \"cell_measures\": \"area: areacella\",\u001b[m\n",
      "\u001b[32m+\u001b[m\u001b[32m      \"cell_methods\": \"area: mean time: mean within years time: mean over years\",\u001b[m\n",
      "\u001b[32m+\u001b[m\u001b[32m      \"comment\": \"near-surface (usually, 2 meter) air temperature\",\u001b[m\n",
      "\u001b[32m+\u001b[m\u001b[32m      \"dimensions\": [\u001b[m\n",
      "\u001b[32m+\u001b[m\u001b[32m        \"longitude\",\u001b[m\n",
      "\u001b[32m+\u001b[m\u001b[32m        \"latitude\",\u001b[m\n",
      "\u001b[32m+\u001b[m\u001b[32m        \"time2\",\u001b[m\n",
      "\u001b[32m+\u001b[m\u001b[32m        \"height2m\"\u001b[m\n",
      "\u001b[32m+\u001b[m\u001b[32m      ],\u001b[m\n",
      "\u001b[32m+\u001b[m\u001b[32m      \"frequency\": \"monC\",\u001b[m\n",
      "\u001b[32m+\u001b[m\u001b[32m      \"long_name\": \"Near-Surface Air Temperature\",\u001b[m\n",
      "\u001b[32m+\u001b[m\u001b[32m      \"modeling_realm\": [\u001b[m\n",
      "\u001b[32m+\u001b[m\u001b[32m        \"atmos\"\u001b[m\n",
      "\u001b[32m+\u001b[m\u001b[32m      ],\u001b[m\n",
      "\u001b[32m+\u001b[m\u001b[32m      \"out_name\": \"tasClim\",\u001b[m\n",
      "\u001b[32m+\u001b[m\u001b[32m      \"positive\": \"\",\u001b[m\n",
      "\u001b[32m+\u001b[m\u001b[32m      \"provenance\": {\u001b[m\n",
      "\u001b[32m+\u001b[m\u001b[32m        \"Notes\": \"New variable introduced for testing\"\u001b[m\n",
      "\u001b[32m+\u001b[m\u001b[32m      },\u001b[m\n",
      "\u001b[32m+\u001b[m\u001b[32m      \"standard_name\": \"air_temperature\",\u001b[m\n",
      "\u001b[32m+\u001b[m\u001b[32m      \"type\": \"real\",\u001b[m\n",
      "\u001b[32m+\u001b[m\u001b[32m      \"units\": \"K\",\u001b[m\n",
      "\u001b[32m+\u001b[m\u001b[32m      \"validation\": {\u001b[m\n",
      "\u001b[32m+\u001b[m\u001b[32m        \"ok_max_mean_abs\": 295.0,\u001b[m\n",
      "\u001b[32m+\u001b[m\u001b[32m        \"ok_min_mean_abs\": 255.0,\u001b[m\n",
      "\u001b[32m+\u001b[m\u001b[32m        \"valid_max\": 350.0,\u001b[m\n",
      "\u001b[32m+\u001b[m\u001b[32m        \"valid_min\": 170.0\u001b[m\n",
      "\u001b[32m+\u001b[m\u001b[32m      }\u001b[m\n",
      "     }\u001b[m\n",
      "   }\u001b[m\n",
      " }\u001b[m\n",
      "\\ No newline at end of file\u001b[m\n"
     ]
    }
   ],
   "source": [
    "# Show diff\n",
    "!git diff ../Tables/APmonClim.json"
   ]
  },
  {
   "cell_type": "code",
   "execution_count": null,
   "id": "896cdb73-c33a-4093-98f7-5fafb060863c",
   "metadata": {},
   "outputs": [],
   "source": []
  }
 ],
 "metadata": {
  "kernelspec": {
   "display_name": "Python 3 (ipykernel)",
   "language": "python",
   "name": "python3"
  },
  "language_info": {
   "codemirror_mode": {
    "name": "ipython",
    "version": 3
   },
   "file_extension": ".py",
   "mimetype": "text/x-python",
   "name": "python",
   "nbconvert_exporter": "python",
   "pygments_lexer": "ipython3",
   "version": "3.10.9"
  }
 },
 "nbformat": 4,
 "nbformat_minor": 5
}
